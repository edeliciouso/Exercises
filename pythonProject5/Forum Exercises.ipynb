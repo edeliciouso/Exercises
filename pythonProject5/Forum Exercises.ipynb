{
 "cells": [
  {
   "cell_type": "code",
   "execution_count": 2,
   "id": "6112cb16",
   "metadata": {},
   "outputs": [
    {
     "name": "stdout",
     "output_type": "stream",
     "text": [
      "Insert the radius of a circle: 7\n",
      "The area of the circle is  15.700000000000001\n"
     ]
    }
   ],
   "source": [
    "#number 1\n",
    "radius = int(input(\"Insert the radius of a circle: \"))\n",
    "area = 3.14 * (radius**2)\n",
    "print(\"The area of the circle is \", area)"
   ]
  },
  {
   "cell_type": "code",
   "execution_count": 8,
   "id": "b468377d",
   "metadata": {},
   "outputs": [
    {
     "name": "stdout",
     "output_type": "stream",
     "text": [
      "Insert your first name here: amy\n",
      "Insert your last name here: moon\n",
      "('moon', 'amy')\n"
     ]
    }
   ],
   "source": [
    "#number 2\n",
    "first = input(\"Insert your first name here: \")\n",
    "last = input(\"Insert your last name here: \")\n",
    "x = first, last = last, first\n",
    "print(x)"
   ]
  },
  {
   "cell_type": "code",
   "execution_count": 9,
   "id": "12ffa6f4",
   "metadata": {},
   "outputs": [
    {
     "name": "stdout",
     "output_type": "stream",
     "text": [
      "Red Black\n"
     ]
    }
   ],
   "source": [
    "#number 3\n",
    "color_list = [\"Red\", \"Green\", \"White\", \"Black\"]\n",
    "print(color_list[0], color_list[3])"
   ]
  },
  {
   "cell_type": "code",
   "execution_count": 16,
   "id": "a031c5ca",
   "metadata": {},
   "outputs": [
    {
     "name": "stdout",
     "output_type": "stream",
     "text": [
      "Insert an integer n here: 2\n",
      "The total value of n + nn + nnn is 14\n"
     ]
    }
   ],
   "source": [
    "#number 4\n",
    "x = int(input(\"Insert an integer n here: \"))\n",
    "nn = (x**2)\n",
    "nnn = (x**3)\n",
    "total = x + nn + nnn\n",
    "print(\"The total value of n + nn + nnn is \" + str(total))"
   ]
  },
  {
   "cell_type": "code",
   "execution_count": 17,
   "id": "17c0fdf4",
   "metadata": {},
   "outputs": [
    {
     "name": "stdout",
     "output_type": "stream",
     "text": [
      "Insert the radius of a sphere 6\n",
      "The volume of the sphere is  904.3199999999999\n"
     ]
    }
   ],
   "source": [
    "#number 5\n",
    "radius = int(input(\"Insert the radius of a sphere \"))\n",
    "v = (4/3) * 3.14 * radius**3\n",
    "print(\"The volume of the sphere is \", v)"
   ]
  },
  {
   "cell_type": "code",
   "execution_count": 19,
   "id": "38f2cac1",
   "metadata": {},
   "outputs": [
    {
     "name": "stdout",
     "output_type": "stream",
     "text": [
      "Insert a number: 11\n"
     ]
    }
   ],
   "source": [
    "#number 6\n",
    "x = int(input(\"Insert a number: \"))\n",
    "if x > 17:\n",
    "    y = (x - 17) * 2\n",
    "    print(y)\n",
    "else:\n",
    "    print(\"okay\")\n",
    "    exit()"
   ]
  },
  {
   "cell_type": "code",
   "execution_count": 10,
   "id": "78e2cb7d",
   "metadata": {},
   "outputs": [
    {
     "name": "stdout",
     "output_type": "stream",
     "text": [
      "Insert number x: 3\n",
      "Insert number y: 3\n",
      "Insert number z: 3\n",
      "27\n"
     ]
    }
   ],
   "source": [
    "#number 7\n",
    "x = int(input(\"Insert number x: \"))\n",
    "y = int(input(\"Insert number y: \"))\n",
    "z = int(input(\"Insert number z: \"))\n",
    "if x == y == z:\n",
    "    total = (x + y + z) * 3\n",
    "elif x != y != z:\n",
    "    total = x + y + z\n",
    "else:\n",
    "    exit()\n",
    "print(total)"
   ]
  },
  {
   "cell_type": "code",
   "execution_count": 12,
   "id": "88997d70",
   "metadata": {},
   "outputs": [
    {
     "name": "stdout",
     "output_type": "stream",
     "text": [
      "Insert a number here: 2\n",
      "The number is even\n"
     ]
    }
   ],
   "source": [
    "#number 8\n",
    "x = int(input(\"Insert a number here: \"))\n",
    "if x % 2 == 0:\n",
    "    print(\"The number is even\")\n",
    "else:\n",
    "    print(\"The number is odd\")"
   ]
  },
  {
   "cell_type": "code",
   "execution_count": 18,
   "id": "59ffd1a2",
   "metadata": {},
   "outputs": [
    {
     "name": "stdout",
     "output_type": "stream",
     "text": [
      "Insert a letter here: A\n",
      "This letter is a vowel.\n"
     ]
    }
   ],
   "source": [
    "#number 9\n",
    "vowels = [\"a\", \"e\", \"i\", \"o\", \"u\"]\n",
    "letter = input(\"Insert a letter here: \")\n",
    "letter = letter.lower()\n",
    "if letter in vowels:\n",
    "    print(\"This letter is a vowel.\")\n",
    "else:\n",
    "    print(\"This letter is a consonant.\")"
   ]
  },
  {
   "cell_type": "code",
   "execution_count": 21,
   "id": "de84c8db",
   "metadata": {},
   "outputs": [
    {
     "name": "stdout",
     "output_type": "stream",
     "text": [
      "Insert number here: 3\n",
      "It's in the group of values.\n"
     ]
    }
   ],
   "source": [
    "#number 10\n",
    "value = [\"1\", \"2\", \"3\", \"4\", \"5\"]\n",
    "number = input(\"Insert number here: \")\n",
    "if number in value:\n",
    "    print(\"It's in the group of values.\")\n",
    "else:\n",
    "    print(\"It's not.\")"
   ]
  },
  {
   "cell_type": "code",
   "execution_count": 20,
   "id": "dac54f9a",
   "metadata": {},
   "outputs": [
    {
     "data": {
      "image/png": "[encoded data removed]",
      "text/plain": [
       "<Figure size 640x480 with 1 Axes>"
      ]
     },
     "metadata": {},
     "output_type": "display_data"
    }
   ],
   "source": [
    "#number 11\n",
    "import matplotlib.pyplot as plt\n",
    "x = [1, 1, 2, 3, 3, 5, 7, 8, 9]\n",
    "plt.hist(x, bins=5)\n",
    "plt.show()"
   ]
  },
  {
   "cell_type": "code",
   "execution_count": 1,
   "id": "e2c081f5",
   "metadata": {},
   "outputs": [
    {
     "name": "stdout",
     "output_type": "stream",
     "text": [
      "386\n",
      "462\n",
      "418\n",
      "344\n",
      "236\n",
      "566\n",
      "978\n",
      "328\n",
      "162\n",
      "758\n",
      "918\n",
      "412\n",
      "566\n",
      "826\n",
      "248\n",
      "866\n",
      "950\n",
      "626\n",
      "104\n",
      "58\n",
      "512\n",
      "24\n",
      "892\n",
      "894\n",
      "742\n",
      "958\n"
     ]
    }
   ],
   "source": [
    "#number 12\n",
    "numbers = [386, 462, 47, 418, 907, 344, 236, 375, 823, 566, 597, 978, 328, 615, 953, 345, \n",
    " 399, 162, 758, 219, 918, 237, 412, 566, 826, 248, 866, 950, 626, 949, 687, 217, \n",
    " 815, 67, 104, 58, 512, 24, 892, 894, 767, 553, 81, 379, 843, 831, 445, 742, 717, \n",
    " 958,743, 527]\n",
    "\n",
    "for x in numbers:\n",
    "    if x % 2 == 0:\n",
    "        print(x)"
   ]
  },
  {
   "cell_type": "code",
   "execution_count": 25,
   "id": "07531c0a",
   "metadata": {},
   "outputs": [
    {
     "name": "stdout",
     "output_type": "stream",
     "text": [
      "Insert base of triangle: 7\n",
      "Insert height of triangle: 4\n",
      "The area of the triangle is  14.0\n"
     ]
    }
   ],
   "source": [
    "#number 13\n",
    "base = int(input(\"Insert base of triangle: \"))\n",
    "height = int(input(\"Insert height of triangle: \"))\n",
    "area = (base * height) / 2\n",
    "print(\"The area of the triangle is \", area)"
   ]
  },
  {
   "cell_type": "code",
   "execution_count": 18,
   "id": "a906b74c",
   "metadata": {},
   "outputs": [
    {
     "name": "stdout",
     "output_type": "stream",
     "text": [
      "Insert first number: 54\n",
      "Insert second number: 24\n",
      "The LCM of 54 and 24 is 216\n"
     ]
    }
   ],
   "source": [
    "#number 14\n",
    "x = eval(input(\"Insert first number: \"))\n",
    "y = eval(input(\"Insert second number: \"))\n",
    "if x > y:\n",
    "    z = x\n",
    "else:\n",
    "    z = y\n",
    "\n",
    "while True:\n",
    "    if((z % x == 0) and (z % y == 0)):\n",
    "        print(\"The LCM of\", x, \"and\", y, \"is\", z)\n",
    "        break\n",
    "    else:\n",
    "        z = z + 1       "
   ]
  },
  {
   "cell_type": "code",
   "execution_count": 27,
   "id": "cdf1d259",
   "metadata": {},
   "outputs": [
    {
     "name": "stdout",
     "output_type": "stream",
     "text": [
      "Insert number x: 2\n",
      "Insert number y: 2\n",
      "Insert number z: 3\n",
      "The sum is zero.\n"
     ]
    }
   ],
   "source": [
    "#number 15\n",
    "x = int(input(\"Insert number x: \"))\n",
    "y = int(input(\"Insert number y: \"))\n",
    "z = int(input(\"Insert number z: \"))\n",
    "if x == y:\n",
    "    print(\"The sum is zero.\")\n",
    "else:\n",
    "    total = x + y + z\n",
    "    print(total)"
   ]
  },
  {
   "cell_type": "code",
   "execution_count": 3,
   "id": "ba591158",
   "metadata": {},
   "outputs": [
    {
     "name": "stdout",
     "output_type": "stream",
     "text": [
      "Insert number x: 2\n",
      "Insert number y: 3\n",
      "(( 2 + 3 ) ^ 2) = 25\n"
     ]
    }
   ],
   "source": [
    "#number 16\n",
    "x = int(input(\"Insert number x: \"))\n",
    "y = int(input(\"Insert number y: \"))\n",
    "z = (x + y)*(x + y)\n",
    "print(\"((\", x, \"+\", y, \")\", \"^\", \"2)\", \"=\", z)"
   ]
  },
  {
   "cell_type": "code",
   "execution_count": 7,
   "id": "81001216",
   "metadata": {},
   "outputs": [
    {
     "name": "stdout",
     "output_type": "stream",
     "text": [
      "12722.792627665729\n"
     ]
    }
   ],
   "source": [
    "#number 17\n",
    "amt = 10000\n",
    "int = 3.5\n",
    "years = 7\n",
    "value = ((1+(int/100))**years) * amt\n",
    "print(value)"
   ]
  },
  {
   "cell_type": "code",
   "execution_count": 9,
   "id": "730a1eaf",
   "metadata": {},
   "outputs": [
    {
     "name": "stdout",
     "output_type": "stream",
     "text": [
      "Insert value of X1 here: 4\n",
      "Insert value of X2 here: 6\n",
      "Insert value of Y1 here: 0\n",
      "Insert value of Y2 here: 6\n",
      "The distance between (4, 0) and (6, 6) is  6.324555320336759\n"
     ]
    }
   ],
   "source": [
    "#number 18\n",
    "x1 = eval(input(\"Insert value of X1 here: \"))\n",
    "x2 = eval(input(\"Insert value of X2 here: \"))\n",
    "y1 = eval(input(\"Insert value of Y1 here: \"))\n",
    "y2 = eval(input(\"Insert value of Y2 here: \"))\n",
    "z = ((((x2 - x1 )**2) + ((y2-y1)**2) )**0.5)\n",
    "print(\"The distance between\", (x1,y1), \"and\", (x2, y2), \"is \", z)"
   ]
  },
  {
   "cell_type": "code",
   "execution_count": 10,
   "id": "1841c402",
   "metadata": {},
   "outputs": [
    {
     "name": "stdout",
     "output_type": "stream",
     "text": [
      "Insert a number: 8\n",
      "36.0\n"
     ]
    }
   ],
   "source": [
    "#number 19\n",
    "x = eval(input(\"Insert a number: \"))\n",
    "z = (x * (x + 1)) / 2\n",
    "print(z)"
   ]
  },
  {
   "cell_type": "code",
   "execution_count": 12,
   "id": "6d9b33d8",
   "metadata": {},
   "outputs": [
    {
     "name": "stdout",
     "output_type": "stream",
     "text": [
      "Insert height in feet here: 5\n",
      "Insert height in inches here: 9\n",
      "Your height in centimeters is:  173.75\n"
     ]
    }
   ],
   "source": [
    "#number 20\n",
    "f = eval(input(\"Insert height in feet here: \"))\n",
    "i = eval(input(\"Insert height in inches here: \"))\n",
    "fincm = f * 30.25\n",
    "iincm = i * 2.5\n",
    "height = fincm + iincm\n",
    "print(\"Your height in centimeters is: \", height)"
   ]
  },
  {
   "cell_type": "code",
   "execution_count": 13,
   "id": "81f7fc2d",
   "metadata": {},
   "outputs": [
    {
     "name": "stdout",
     "output_type": "stream",
     "text": [
      "Insert the length of side A: 6\n",
      "Insert the length of side B: 8\n",
      "The hypotenuse of a right angled triangle is  10.0\n"
     ]
    }
   ],
   "source": [
    "#number 21\n",
    "a = eval(input(\"Insert the length of side A: \"))\n",
    "b = eval(input(\"Insert the length of side B: \"))\n",
    "c = ((a**2 + b**2)**0.5)\n",
    "print(\"The hypotenuse of a right angled triangle is \", c)"
   ]
  },
  {
   "cell_type": "code",
   "execution_count": 14,
   "id": "0f966dab",
   "metadata": {},
   "outputs": [
    {
     "name": "stdout",
     "output_type": "stream",
     "text": [
      "Insert height in m: 1.55\n",
      "Insert mass in kg: 65\n",
      "27.055150884495315\n"
     ]
    }
   ],
   "source": [
    "#number 22\n",
    "h = eval(input(\"Insert height in m: \"))\n",
    "m = eval(input(\"Insert mass in kg: \"))\n",
    "bmi = m/h**2\n",
    "print(bmi)"
   ]
  },
  {
   "cell_type": "code",
   "execution_count": 15,
   "id": "5e3cbd2d",
   "metadata": {},
   "outputs": [
    {
     "name": "stdout",
     "output_type": "stream",
     "text": [
      "Insert value of X1 here: 2\n",
      "Insert value of X2 here: 2\n",
      "Insert value of Y1 here: 4\n",
      "Insert value of Y2 here: 4\n",
      "The midpoint of x is:  2.0\n",
      "The midpoint of y is:  4.0\n"
     ]
    }
   ],
   "source": [
    "#number 23\n",
    "x1 = eval(input(\"Insert value of X1 here: \"))\n",
    "x2 = eval(input(\"Insert value of X2 here: \"))\n",
    "y1 = eval(input(\"Insert value of Y1 here: \"))\n",
    "y2 = eval(input(\"Insert value of Y2 here: \"))\n",
    "xpoint = (x1 + x2)/2\n",
    "ypoint = (y1 + y2)/2\n",
    "print(\"The midpoint of x is: \", xpoint)\n",
    "print(\"The midpoint of y is: \", ypoint)"
   ]
  },
  {
   "cell_type": "code",
   "execution_count": 17,
   "id": "9b691236",
   "metadata": {},
   "outputs": [
    {
     "name": "stdout",
     "output_type": "stream",
     "text": [
      "2002,2009,2016,2023,2037,2044,2051,2058,2072,2079,2086,2093,2107,2114,2121,2128,2142,2149,2156,2163,2177,2184,2191,2198,2212,2219,2226,2233,2247,2254,2261,2268,2282,2289,2296,2303,2317,2324,2331,2338,2352,2359,2366,2373,2387,2394,2401,2408,2422,2429,2436,2443,2457,2464,2471,2478,2492,2499,2506,2513,2527,2534,2541,2548,2562,2569,2576,2583,2597,2604,2611,2618,2632,2639,2646,2653,2667,2674,2681,2688,2702,2709,2716,2723,2737,2744,2751,2758,2772,2779,2786,2793,2807,2814,2821,2828,2842,2849,2856,2863,2877,2884,2891,2898,2912,2919,2926,2933,2947,2954,2961,2968,2982,2989,2996,3003,3017,3024,3031,3038,3052,3059,3066,3073,3087,3094,3101,3108,3122,3129,3136,3143,3157,3164,3171,3178,3192,3199\n"
     ]
    }
   ],
   "source": [
    "#number 24\n",
    "list=[]\n",
    "for x in range(2000, 3200):\n",
    "    if (x % 7 == 0) and (x % 5 != 0):\n",
    "        list.append(str(x))\n",
    "print (','.join(list))"
   ]
  },
  {
   "cell_type": "code",
   "execution_count": null,
   "id": "32895e31",
   "metadata": {},
   "outputs": [],
   "source": []
  }
 ],
 "metadata": {
  "kernelspec": {
   "display_name": "Python 3 (ipykernel)",
   "language": "python",
   "name": "python3"
  },
  "language_info": {
   "codemirror_mode": {
    "name": "ipython",
    "version": 3
   },
   "file_extension": ".py",
   "mimetype": "text/x-python",
   "name": "python",
   "nbconvert_exporter": "python",
   "pygments_lexer": "ipython3",
   "version": "3.10.7"
  }
 },
 "nbformat": 4,
 "nbformat_minor": 5
}
